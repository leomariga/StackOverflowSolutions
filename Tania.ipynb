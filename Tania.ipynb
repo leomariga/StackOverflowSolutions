{
 "cells": [
  {
   "cell_type": "code",
   "execution_count": 5,
   "metadata": {},
   "outputs": [
    {
     "name": "stdout",
     "output_type": "stream",
     "text": [
      "[[-0.52996601]\n",
      " [ 2.1965699 ]\n",
      " [ 2.63830491]]\n",
      "[[0.2]\n",
      " [0.5]\n",
      " [0.3]]\n",
      "[[131.4]\n",
      " [112.4]\n",
      " [ 95.1]]\n",
      "[[130.87003399]\n",
      " [114.5965699 ]\n",
      " [ 97.73830491]]\n"
     ]
    }
   ],
   "source": [
    "from math import cos, atan\n",
    "import numpy as np\n",
    "from scipy.optimize import minimize\n",
    "import matplotlib.pyplot as plt\n",
    "\n",
    "# D é o desvio padrão do erro da medida, só botei qualquer coisa pra testar\n",
    "D = 2\n",
    "\n",
    "# Erro da medida\n",
    "e = np.array([np.random.normal(0,D,1), np.random.normal(0,D,1), np.random.normal(0,D,1)])\n",
    "print(e)\n",
    "\n",
    "# Esse é o X que devemos obter no final da otimização\n",
    "x_real = np.array([[0.2], [0.5], [0.3]])\n",
    "print(x_real)\n",
    "\n",
    "#Assinatura\n",
    "A = np.array([[2, 127, 225], [41, 140, 114], [60, 42, 207]])\n",
    "\n",
    "# Esse valor de R é o valor \"perfeito\"\n",
    "R_real = A.dot(x_real)\n",
    "print(R_real)\n",
    "\n",
    "# R_medido, colocamos ruído para atrapalhar a coisa toda\n",
    "R_medido = R_real + e\n",
    "\n",
    "\n",
    "print(R_medido)\n",
    "e_ = []\n"
   ]
  },
  {
   "cell_type": "code",
   "execution_count": 6,
   "metadata": {},
   "outputs": [
    {
     "name": "stdout",
     "output_type": "stream",
     "text": [
      "[0.2569487  0.50248169 0.29573566]\n",
      "1.0551660449844038\n"
     ]
    },
    {
     "data": {
      "image/png": "[encoded data removed]",
      "text/plain": [
       "<Figure size 432x288 with 1 Axes>"
      ]
     },
     "metadata": {
      "needs_background": "light"
     },
     "output_type": "display_data"
    }
   ],
   "source": [
    "# Devemos minimizar o erro quadrático de cada componente, então:\n",
    "def f(x):\n",
    "    e_.append(np.sum((R_medido - np.array([A.dot(np.array(x))]).T)**2))\n",
    "    return np.sum((R_medido - np.array([A.dot(np.array(x))]).T)**2)\n",
    "\n",
    "bnds = ((0, 1), (0, 1), (0, 1))\n",
    "cons = ({'type': 'ineq', 'fun': lambda x:  x[0]+ x[1] +x[2] - 1})\n",
    "\n",
    "x0 = [0.5, 0.5, 0.5]\n",
    "res = minimize(f, x0, method='SLSQP', bounds=bnds, constraints=cons)\n",
    "print(res.x)\n",
    "print(np.sum(res.x))\n",
    "\n",
    "plt.semilogy(e_)\n",
    "plt.xlabel('Iteração')\n",
    "plt.ylabel('Erro quadrático')\n",
    "plt.grid(True)\n",
    "\n",
    "plt.show()"
   ]
  },
  {
   "cell_type": "code",
   "execution_count": null,
   "metadata": {},
   "outputs": [],
   "source": []
  }
 ],
 "metadata": {
  "kernelspec": {
   "display_name": "Python 3",
   "language": "python",
   "name": "python3"
  },
  "language_info": {
   "codemirror_mode": {
    "name": "ipython",
    "version": 3
   },
   "file_extension": ".py",
   "mimetype": "text/x-python",
   "name": "python",
   "nbconvert_exporter": "python",
   "pygments_lexer": "ipython3",
   "version": "3.7.3"
  }
 },
 "nbformat": 4,
 "nbformat_minor": 2
}
