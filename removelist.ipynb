{
 "cells": [
  {
   "cell_type": "code",
   "execution_count": 4,
   "metadata": {},
   "outputs": [
    {
     "name": "stdout",
     "output_type": "stream",
     "text": [
      "Customer has been deleted\n",
      "Customer has been deleted\n",
      "Customer has been deleted\n"
     ]
    }
   ],
   "source": [
    "class FitClinic:\n",
    "    def __init__(self, lname):\n",
    "        self.lname = lname\n",
    "\n",
    "    def __del__(self):\n",
    "        print(\"Customer has been deleted\")\n",
    "\n",
    "    def get_lname(self):\n",
    "        return self.lname\n",
    "\n",
    "\n",
    "sorted_list = [FitClinic('a'), FitClinic('b'), FitClinic('c'), FitClinic('Appleton')]\n",
    "sorted_list[:] = [x for x in sorted_list if x.get_lname()!=\"Appleton\"]\n"
   ]
  },
  {
   "cell_type": "code",
   "execution_count": 5,
   "metadata": {},
   "outputs": [
    {
     "name": "stdout",
     "output_type": "stream",
     "text": [
      "Customer has been deleted\n",
      "a\n",
      "b\n",
      "c\n"
     ]
    }
   ],
   "source": [
    "for i in sorted_list: \n",
    "    print(i.get_lname())"
   ]
  },
  {
   "cell_type": "code",
   "execution_count": null,
   "metadata": {},
   "outputs": [],
   "source": []
  }
 ],
 "metadata": {
  "kernelspec": {
   "display_name": "Python 3",
   "language": "python",
   "name": "python3"
  },
  "language_info": {
   "codemirror_mode": {
    "name": "ipython",
    "version": 3
   },
   "file_extension": ".py",
   "mimetype": "text/x-python",
   "name": "python",
   "nbconvert_exporter": "python",
   "pygments_lexer": "ipython3",
   "version": "3.7.3"
  }
 },
 "nbformat": 4,
 "nbformat_minor": 2
}
