{
 "cells": [
  {
   "cell_type": "markdown",
   "metadata": {},
   "source": [
    "Faca um programa que leia uma frase e verifique se é um palíndromo. Nesse\n",
    "caso, os espaços, acentos e símbolos devem ser desconsiderados, e não há diferença entre\n",
    "maiúsculas e minúsculas. Exemplos de frases palíndromos: \"Never odd or even\", \"ROMA\n",
    "TIBI SUBITO MOTIBUS IBIT AMOR\", \"Socorram-me, subi no ônibus em Marrocos!\"."
   ]
  },
  {
   "cell_type": "code",
   "execution_count": 34,
   "metadata": {},
   "outputs": [
    {
     "name": "stdout",
     "output_type": "stream",
     "text": [
      "neverod  -  neverod\n",
      "É palíndromo sim\n",
      "romatibisubitom  -  romatibisubitom\n",
      "É palíndromo sim\n",
      "socorrammesubino  -  socorrammesubino\n",
      "É palíndromo sim\n",
      "socorrammesubinonib  -  socoraaaaaarammesub\n",
      "Não é palíndromo\n"
     ]
    }
   ],
   "source": [
    "# Solução 1: Separa a frase em duas metades, inverte a segunda, e compara com a primeira\n",
    "\n",
    "import re\n",
    "frases = [\"Never odd or even\", \"ROMA TIBI SUBITO MOTIBUS IBIT AMOR\", \"Socorram-me, subi no ônibus em Marrocos!\", \"Socorram-me, subi no ônibus em Maraaaaaarocos!\"] \n",
    "\n",
    "for f in frases:\n",
    "    \n",
    "    # Passa tudo pra minúscula\n",
    "    f = f.lower()\n",
    "    \n",
    "    # Usa a biblioteca Regex pra retirar qualquer caractére que não seja do alfabeto\n",
    "    f = re.sub(\"[^a-zA-Z]+\", \"\", f)\n",
    "    \n",
    "    # Pega o tamanho da frase toda\n",
    "    tamanho_f = len(f)\n",
    "    \n",
    "    # Inicialmente supomos que não é palíndromo\n",
    "    e_palindromo = False\n",
    "    \n",
    "    # Se tiver um número par de letras, as duas metades devem ser iguais, mas invertidas\n",
    "    if(tamanho_f % 2 == 0):\n",
    "        f1 = f[0:int(tamanho_f/2)]           # Pega primeira metade da frase\n",
    "        f2 = f[int(tamanho_f/2):]            # Pega segunda metade da frase\n",
    "        f2_invertida = f2[::-1]              # Inverte segunda metade\n",
    "        print(f1, \" - \", f2_invertida)\n",
    "        if(f1 == f2_invertida):              # Se a primeira metade for igual a segunda metade invertida, então é palíndromo\n",
    "            e_palindromo = True\n",
    "    \n",
    "    # Se tiver u número impar de letras, a letra central deve ser considerada nas duas metades\n",
    "    else:\n",
    "        f1 = f[0:int(tamanho_f/2+1)]           # Pega primeira metade da frase\n",
    "        f2 = f[int(tamanho_f/2):]              # Pega segunda metade da frase\n",
    "        f2_invertida = f2[::-1]                # Inverte segunda metade\n",
    "        print(f1, \" - \", f2_invertida)\n",
    "        if(f1 == f2_invertida):                # Se a primeira metade for igual a segunda metade invertida, então é palíndromo\n",
    "            e_palindromo = True\n",
    "            \n",
    "    # Exibe resultado\n",
    "    if(e_palindromo):\n",
    "        print(\"É palíndromo sim\")\n",
    "    else:\n",
    "        print(\"Não é palíndromo\")\n",
    "\n",
    "    "
   ]
  },
  {
   "cell_type": "code",
   "execution_count": 38,
   "metadata": {},
   "outputs": [
    {
     "name": "stdout",
     "output_type": "stream",
     "text": [
      "neveroddoreven    -    neveroddoreven\n",
      "É palíndromo sim\n",
      "romatibisubitomotibusibitamor    -    romatibisubitomotibusibitamor\n",
      "É palíndromo sim\n",
      "socorrammesubinonibusemmarrocos    -    socorrammesubinonibusemmarrocos\n",
      "É palíndromo sim\n",
      "socorrammesubinonibusemmaraaaaaarocos    -    socoraaaaaarammesubinonibusemmarrocos\n",
      "Não é palíndromo\n"
     ]
    }
   ],
   "source": [
    "# Solução 2: inverte a frase e compara com a não invertida\n",
    "\n",
    "import re\n",
    "frases = [\"Never odd or even\", \"ROMA TIBI SUBITO MOTIBUS IBIT AMOR\", \"Socorram-me, subi no ônibus em Marrocos!\", \"Socorram-me, subi no ônibus em Maraaaaaarocos!\"] \n",
    "\n",
    "for f in frases:\n",
    "    \n",
    "    # Passa tudo pra minúscula\n",
    "    f = f.lower()\n",
    "    \n",
    "    # Usa a biblioteca Regex pra retirar qualquer caractére que não seja do alfabeto\n",
    "    f = re.sub(\"[^a-zA-Z]+\", \"\", f)\n",
    "    \n",
    "    # Inverte a frase toda \n",
    "    f_invertida = f[::-1]\n",
    "    \n",
    "    # Exibe frase normal e invertida\n",
    "    print(f, \"   -   \", f_invertida)\n",
    "    \n",
    "    # Exibe resultado\n",
    "    if(f == f_invertida):\n",
    "        print(\"É palíndromo sim\")\n",
    "    else:\n",
    "        print(\"Não é palíndromo\")"
   ]
  },
  {
   "cell_type": "code",
   "execution_count": 48,
   "metadata": {},
   "outputs": [
    {
     "name": "stdout",
     "output_type": "stream",
     "text": [
      "Digite a fraseaba\n",
      "É palíndromo\n"
     ]
    }
   ],
   "source": [
    "# Solução 3: Compara última com a primera, penúltima com a segunda, até encontrar ou não alguma diferente\n",
    "\n",
    "import re\n",
    "\n",
    "f = str(input(\"Digite a frase\"))\n",
    "    \n",
    "# Passa tudo pra minúscula\n",
    "f = f.lower()\n",
    "\n",
    "# Usa a biblioteca Regex pra retirar qualquer caractére que não seja do alfabeto\n",
    "f = re.sub(\"[^a-zA-Z]+\", \"\", f)\n",
    "\n",
    "# Basta verificar se a última letra é igual a primiera, se a penúltima é igual a segunda, e aí por diante\n",
    "for i in range(len(f)):\n",
    "    if(f[i] != f[len(f)-i-1]):           # Se alguma das verficações já for diferente, não é palíndromo\n",
    "        print(\"Não é palíndromo\")\n",
    "        break\n",
    "    if(i == len(f)-1):\n",
    "        print(\"É palíndromo\")\n",
    "        break\n",
    "    \n"
   ]
  },
  {
   "cell_type": "code",
   "execution_count": null,
   "metadata": {},
   "outputs": [],
   "source": []
  },
  {
   "cell_type": "code",
   "execution_count": null,
   "metadata": {},
   "outputs": [],
   "source": []
  }
 ],
 "metadata": {
  "kernelspec": {
   "display_name": "Python 3",
   "language": "python",
   "name": "python3"
  },
  "language_info": {
   "codemirror_mode": {
    "name": "ipython",
    "version": 3
   },
   "file_extension": ".py",
   "mimetype": "text/x-python",
   "name": "python",
   "nbconvert_exporter": "python",
   "pygments_lexer": "ipython3",
   "version": "3.7.3"
  }
 },
 "nbformat": 4,
 "nbformat_minor": 2
}
